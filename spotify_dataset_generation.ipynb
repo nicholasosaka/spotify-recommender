{
 "cells": [
  {
   "cell_type": "code",
   "execution_count": 15,
   "id": "1db0b1ed",
   "metadata": {},
   "outputs": [],
   "source": [
    "# basic imports\n",
    "import pandas as pd\n",
    "import numpy as np\n",
    "import matplotlib.pyplot as plt\n",
    "import seaborn as sns\n",
    "import time\n",
    "import sys\n",
    "from dotenv import load_dotenv\n",
    "\n",
    "# load dotenv\n",
    "load_dotenv()\n",
    "\n",
    "%matplotlib inline"
   ]
  },
  {
   "cell_type": "code",
   "execution_count": 2,
   "id": "21a8dca8",
   "metadata": {},
   "outputs": [],
   "source": [
    "# authorize user and initialize spotipy instance\n",
    "import spotipy\n",
    "from spotipy.oauth2 import SpotifyOAuth\n",
    "\n",
    "sp = spotipy.Spotify(auth_manager=SpotifyOAuth())"
   ]
  },
  {
   "cell_type": "code",
   "execution_count": 3,
   "id": "95b0198c",
   "metadata": {},
   "outputs": [],
   "source": [
    "featured_playlists_sp = sp.featured_playlists(locale=\"EN\")"
   ]
  },
  {
   "cell_type": "code",
   "execution_count": 4,
   "id": "ee125af2",
   "metadata": {},
   "outputs": [
    {
     "name": "stdout",
     "output_type": "stream",
     "text": [
      "Calm Down\n",
      "All Out 00s\n",
      "Timeless Love Songs\n",
      "Evening Acoustic\n",
      "Dreamy Vibes\n",
      "Brand New Chill\n",
      "50 Great Female Voices\n",
      "Bedroom Jams\n",
      "Easy 90s\n",
      "Chilled Dance\n",
      "Relax & Unwind\n",
      "Feelgood Pop\n"
     ]
    }
   ],
   "source": [
    "for playlist in featured_playlists_sp['playlists']['items']:\n",
    "    print(playlist['name'])"
   ]
  },
  {
   "cell_type": "code",
   "execution_count": 5,
   "id": "745e1d4c",
   "metadata": {},
   "outputs": [],
   "source": [
    "featured_playlists = [p for p in featured_playlists_sp['playlists']['items']]"
   ]
  },
  {
   "cell_type": "code",
   "execution_count": 6,
   "id": "22c2ba9f",
   "metadata": {},
   "outputs": [
    {
     "name": "stdout",
     "output_type": "stream",
     "text": [
      "Calm Down: 70 tracks\n",
      "All Out 00s: 100 tracks\n",
      "Timeless Love Songs: 100 tracks\n",
      "Evening Acoustic: 100 tracks\n",
      "Dreamy Vibes: 100 tracks\n",
      "Brand New Chill: 100 tracks\n",
      "50 Great Female Voices: 50 tracks\n",
      "Bedroom Jams: 75 tracks\n",
      "Easy 90s: 80 tracks\n",
      "Chilled Dance: 46 tracks\n",
      "Relax & Unwind: 100 tracks\n",
      "Feelgood Pop: 50 tracks\n",
      "971 tracks collected\n"
     ]
    }
   ],
   "source": [
    "tracks = []\n",
    "for playlist in featured_playlists:\n",
    "    p_items = sp.playlist_items(playlist['id'])\n",
    "    print(playlist['name'] + \":\", len(p_items['items']), \"tracks\")\n",
    "    for element in p_items['items']:\n",
    "        tracks.append(element)\n",
    "print(len(tracks), \"tracks collected\")"
   ]
  },
  {
   "cell_type": "code",
   "execution_count": 7,
   "id": "1bc009ed",
   "metadata": {},
   "outputs": [],
   "source": [
    "tracks = [t['track'] for t in tracks]"
   ]
  },
  {
   "cell_type": "code",
   "execution_count": 8,
   "id": "73016b2b",
   "metadata": {},
   "outputs": [],
   "source": [
    "def filter_track_meta(track):\n",
    "    return {\n",
    "        'name': track['name'],\n",
    "        'artist': track['artists'][0]['name']\n",
    "    }"
   ]
  },
  {
   "cell_type": "code",
   "execution_count": 9,
   "id": "47637bbe",
   "metadata": {},
   "outputs": [],
   "source": [
    "def get_audio_features(track):\n",
    "    audio_features = sp.audio_features(track['id'])[0]\n",
    "    audio_features.pop('time_signature')\n",
    "    audio_features.pop('uri')\n",
    "    audio_features.pop('track_href')\n",
    "    audio_features.pop('type')\n",
    "    audio_features.pop('analysis_url')\n",
    "    audio_features.pop('duration_ms')\n",
    "    return audio_features"
   ]
  },
  {
   "cell_type": "code",
   "execution_count": 10,
   "id": "881cad4c",
   "metadata": {},
   "outputs": [],
   "source": [
    "def blend_track_data(track):\n",
    "    audio_features = get_audio_features(track)\n",
    "    track_meta = filter_track_meta(track)\n",
    "    track = track_meta\n",
    "    for key in audio_features.keys():\n",
    "        track[key] = audio_features[key]\n",
    "    return track"
   ]
  },
  {
   "cell_type": "code",
   "execution_count": 11,
   "id": "df81f397",
   "metadata": {
    "scrolled": true
   },
   "outputs": [
    {
     "data": {
      "text/plain": [
       "{'name': 'Mystery of Love (From the Original Motion Picture “Call Me by Your Name”)',\n",
       " 'artist': 'Sufjan Stevens',\n",
       " 'danceability': 0.365,\n",
       " 'energy': 0.273,\n",
       " 'key': 4,\n",
       " 'loudness': -16.526,\n",
       " 'mode': 0,\n",
       " 'speechiness': 0.038,\n",
       " 'acousticness': 0.94,\n",
       " 'instrumentalness': 0.431,\n",
       " 'liveness': 0.109,\n",
       " 'valence': 0.238,\n",
       " 'tempo': 132.285,\n",
       " 'id': '0oTtnnedK0C4unALxVTPhz'}"
      ]
     },
     "execution_count": 11,
     "metadata": {},
     "output_type": "execute_result"
    }
   ],
   "source": [
    "blend_track_data(tracks[0])"
   ]
  },
  {
   "cell_type": "code",
   "execution_count": 20,
   "id": "34e35e9b",
   "metadata": {
    "scrolled": true
   },
   "outputs": [
    {
     "name": "stdout",
     "output_type": "stream",
     "text": [
      " #971 100.00%"
     ]
    }
   ],
   "source": [
    "tracks_with_attributes = []\n",
    "count = 0\n",
    "tracks_len = len(tracks)\n",
    "for track in tracks:\n",
    "    time.sleep(0.05)\n",
    "    count += 1\n",
    "    print(\"\\r\", \"#\" + str(count), f\"{(count/tracks_len)*100:5.2f}%\", end=\"\")\n",
    "    tracks_with_attributes.append(blend_track_data(track))"
   ]
  },
  {
   "cell_type": "code",
   "execution_count": 35,
   "id": "9c49acd7",
   "metadata": {},
   "outputs": [
    {
     "data": {
      "text/plain": [
       "{'name': 'I Knew You Were Trouble',\n",
       " 'artist': 'Taylor Swift',\n",
       " 'danceability': 0.499,\n",
       " 'energy': 0.467,\n",
       " 'key': 6,\n",
       " 'loudness': -6.744,\n",
       " 'mode': 1,\n",
       " 'speechiness': 0.0461,\n",
       " 'acousticness': 0.00593,\n",
       " 'instrumentalness': 1.65e-06,\n",
       " 'liveness': 0.0361,\n",
       " 'valence': 0.637,\n",
       " 'tempo': 76.76,\n",
       " 'id': '6RjKVXi31fui9m4dbiGRrL'}"
      ]
     },
     "execution_count": 35,
     "metadata": {},
     "output_type": "execute_result"
    }
   ],
   "source": [
    "tracks_with_attributes[97]"
   ]
  },
  {
   "cell_type": "code",
   "execution_count": 23,
   "id": "c18ed97d",
   "metadata": {},
   "outputs": [],
   "source": [
    "import pickle"
   ]
  },
  {
   "cell_type": "code",
   "execution_count": 24,
   "id": "26661a0e",
   "metadata": {},
   "outputs": [],
   "source": [
    "with open(\"./data/spotify_featured_songs.pkl\", \"wb\") as f:\n",
    "    pickle.dump(tracks_with_attributes, f)"
   ]
  }
 ],
 "metadata": {
  "kernelspec": {
   "display_name": "Python 3 (ipykernel)",
   "language": "python",
   "name": "python3"
  },
  "language_info": {
   "codemirror_mode": {
    "name": "ipython",
    "version": 3
   },
   "file_extension": ".py",
   "mimetype": "text/x-python",
   "name": "python",
   "nbconvert_exporter": "python",
   "pygments_lexer": "ipython3",
   "version": "3.8.11"
  }
 },
 "nbformat": 4,
 "nbformat_minor": 5
}
